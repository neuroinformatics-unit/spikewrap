{
  "cells": [
    {
      "cell_type": "markdown",
      "metadata": {},
      "source": [
        "\n\n# How to Edit the Sync Channel\n\n<div class=\"alert alert-info\"><h4>Note</h4><p>This is a quick how-to on working with the sync channel. See `here <sync-channel-tutorial>` for a long-form tutorial.</p></div>\n"
      ]
    },
    {
      "cell_type": "markdown",
      "metadata": {},
      "source": [
        "<div class=\"alert alert-danger\"><h4>Warning</h4><p>Currently, the only supported sync channel is from Neuropixels Imec stream\n    (in which it is the 385th channel). Please get in contact to see other cases supported.</p></div>\n\n"
      ]
    },
    {
      "cell_type": "code",
      "execution_count": null,
      "metadata": {
        "collapsed": false
      },
      "outputs": [],
      "source": [
        "import spikewrap as sw\n\nsession = sw.Session(\n    subject_path=sw.get_example_data_path(\"openephys\") / \"rawdata\" / \"sub-001\",\n    session_name=\"ses-001\",\n    file_format=\"openephys\",\n    run_names=\"all\"\n)\n\nsession.load_raw_data()\n\nsession.get_raw_run_names()\n\n# get the sync channel data as a numpy array\nrun_1_sync_channel = session.get_sync_channel(run_idx= 0)\n\n# or plot the sync channel\nsession.plot_sync_channel(run_idx=0, show=True)\n\n# edit the sync channel\nsession.silence_sync_channel(\n    run_idx=0,\n    periods_to_silence=[(0, 250), (500, 750)]\n)\n\n# refresh the sync channel\nsession.load_raw_data(overwrite=True)\n\nsession.save_sync_channel(overwrite=True, slurm=False)"
      ]
    }
  ],
  "metadata": {
    "kernelspec": {
      "display_name": "Python 3",
      "language": "python",
      "name": "python3"
    },
    "language_info": {
      "codemirror_mode": {
        "name": "ipython",
        "version": 3
      },
      "file_extension": ".py",
      "mimetype": "text/x-python",
      "name": "python",
      "nbconvert_exporter": "python",
      "pygments_lexer": "ipython3",
      "version": "3.11.11"
    }
  },
  "nbformat": 4,
  "nbformat_minor": 0
}