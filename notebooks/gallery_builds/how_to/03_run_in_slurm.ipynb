{
  "cells": [
    {
      "cell_type": "markdown",
      "metadata": {},
      "source": [
        "\n\n# How to run in SLURM\n\n<div class=\"alert alert-info\"><h4>Note</h4><p>This is a quick how-to on SLURM. See `here <slurm-tutorial>` for a long-form tutorial.</p></div>\n"
      ]
    },
    {
      "cell_type": "markdown",
      "metadata": {},
      "source": [
        "The below code will run all captured code within a single slurm job.\nFrom within this SLURM job, the call to ``session.save_preprocessed(slurm=True)``\nwill spawn three additional SLURM jobs (parallelising across three runs).\n\nAfter they have finished running, sorting will be run and the SLURM job will terminate.\n\n```python\nimport spikewrap as sw\n\ndef capture_for_slurm():\n\n    session = sw.Session(\n        subject_path=sw.get_example_data_path() / \"rawdata\" / \"sub-001\",\n        session_name=\"ses-001\",\n        file_format=\"spikeglx\",\n        run_names=[\"run-001, \"run-002\", \"run-003\"]\n    )\n\n    session.preprocess(configs=\"neuropixels+kilosort2_5\")\n\n    session.save_preprocessed(slurm=True)\n\n    session.wait_for_slurm()\n\n    session.sort(\"neuropixels+kilosort2_5\", concat_runs=True, slurm=False)\n\nsw.run_in_slurm(\n    slurm_opts=None,\n    func_to_run=capture_for_slurm,\n    log_base_path=session.get_output_path()\n)\n```\n"
      ]
    },
    {
      "cell_type": "markdown",
      "metadata": {},
      "source": [
        "Managing SLURM options - see the default SLURM options, used when ``slurm=True``\n\n"
      ]
    },
    {
      "cell_type": "code",
      "execution_count": null,
      "metadata": {
        "collapsed": false
      },
      "outputs": [],
      "source": [
        "import spikewrap as sw\nimport json\n\ndefault_arguments = sw.default_slurm_options()\n\nprint(\n    json.dumps(default_arguments, indent=4)  # json just for visualising output\n)"
      ]
    },
    {
      "cell_type": "markdown",
      "metadata": {},
      "source": [
        "Otherwise, we can update these as desired:\n\n"
      ]
    },
    {
      "cell_type": "code",
      "execution_count": null,
      "metadata": {
        "collapsed": false
      },
      "outputs": [],
      "source": [
        "gpu_arguments = sw.default_slurm_options(\"gpu\")\n\ngpu_arguments[\"mem_gb\"] = 60\ngpu_arguments[\"env_name\"] = \"my_conda_environment\"\n\nprint(\n    json.dumps(gpu_arguments, indent=4)\n)\n\n# and then use like:\n# session.save_preprocessed(n_jobs=12, slurm=gpu_arguments)"
      ]
    }
  ],
  "metadata": {
    "kernelspec": {
      "display_name": "Python 3",
      "language": "python",
      "name": "python3"
    },
    "language_info": {
      "codemirror_mode": {
        "name": "ipython",
        "version": 3
      },
      "file_extension": ".py",
      "mimetype": "text/x-python",
      "name": "python",
      "nbconvert_exporter": "python",
      "pygments_lexer": "ipython3",
      "version": "3.11.11"
    }
  },
  "nbformat": 4,
  "nbformat_minor": 0
}