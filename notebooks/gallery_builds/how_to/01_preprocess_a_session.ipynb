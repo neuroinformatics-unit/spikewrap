{
  "cells": [
    {
      "cell_type": "markdown",
      "metadata": {},
      "source": [
        "\n\n# How to preprocess a session\n\n<div class=\"alert alert-info\"><h4>Note</h4><p>This is a quick how-to on session preprocessing. See `here <preprocess-session-tutorial>` for a long-form tutorial.</p></div>\n"
      ]
    },
    {
      "cell_type": "code",
      "execution_count": null,
      "metadata": {
        "collapsed": false
      },
      "outputs": [],
      "source": [
        "if __name__ == \"__main__\":  # for multiprocessing\n\n    import spikewrap as sw\n\n    # We will use these configs\n    sw.show_configs(\"neuropixels+kilosort2_5\")\n\n    # Now we will preprocess and save all sesssion data.\n\n    session = sw.Session(\n        subject_path=sw.get_example_data_path() / \"rawdata\" / \"sub-001\",\n        session_name=\"ses-001\",\n        file_format=\"spikeglx\",  # or \"openephys\"\n        run_names=\"all\",\n        probe=None  # (optional argument), auto-detected for Neuropixels, but can set ProbeInterface probes here\n    )\n\n    session.preprocess(\n        configs=\"neuropixels+kilosort2_5\",\n        per_shank=True,\n        concat_runs=True\n    )\n\n    plots = session.plot_preprocessed(\n        show=True,\n        time_range=(0, 0.5),\n        show_channel_ids=False,  # also, \"mode\"=\"map\" or \"line\"\n    )\n\n    session.save_preprocessed(overwrite=True, n_jobs=6, slurm=False)"
      ]
    },
    {
      "cell_type": "markdown",
      "metadata": {},
      "source": [
        "We could run again with different configs and multiprocessing:\n\n"
      ]
    },
    {
      "cell_type": "code",
      "execution_count": null,
      "metadata": {
        "collapsed": false
      },
      "outputs": [],
      "source": [
        "if __name__ == \"__main__\":\n\n    pp_steps = {\n        \"1\": [\"phase_shift\", {}],  \n        \"2\": [\"bandpass_filter\", {\"freq_min\": 300, \"freq_max\": 6000}],\n        \"3\": [\"common_reference\", {\"operator\": \"median\", \"reference\": \"global\"}],\n    }\n\n    session.preprocess(configs=pp_steps, per_shank=False, concat_runs=False)\n\n    session.plot_preprocessed(\n        show=True,\n        time_range=(0, 0.5),\n        show_channel_ids=False,  # also, \"mode\"=\"map\" or \"line\"\n    )\n\n    session.save_preprocessed(overwrite=True, n_jobs=6, slurm=False)"
      ]
    }
  ],
  "metadata": {
    "kernelspec": {
      "display_name": "Python 3",
      "language": "python",
      "name": "python3"
    },
    "language_info": {
      "codemirror_mode": {
        "name": "ipython",
        "version": 3
      },
      "file_extension": ".py",
      "mimetype": "text/x-python",
      "name": "python",
      "nbconvert_exporter": "python",
      "pygments_lexer": "ipython3",
      "version": "3.11.11"
    }
  },
  "nbformat": 4,
  "nbformat_minor": 0
}