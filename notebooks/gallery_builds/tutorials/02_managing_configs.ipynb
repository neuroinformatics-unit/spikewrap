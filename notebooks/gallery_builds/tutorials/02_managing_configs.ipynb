{
  "cells": [
    {
      "cell_type": "markdown",
      "metadata": {},
      "source": [
        "\n\n# Managing ``configs``\n\n<div class=\"alert alert-info\"><h4>Note</h4><p>This is a long-form tutorial on ``config`` management. See `here <configs-howto>` for a quick how-to.</p></div>\n\nIn ``spikewrap``, ``configs`` encode the preprocessing and sorting settings for a pipeline.\nThe emphasis is on convenient sharing of pipelines, while allowing flexibility for prototyping.\n\nAll ``configs`` in ``spikewrap`` map directly to underlying\n[SpikeInterface functions](https://spikeinterface.readthedocs.io/en/stable/api.html).\n\nTo use the ``configs``, they are passed to processing functions (e.g. :class:`spikewrap.Session.preprocess`),\nin one of three ways:\n\n**config name**:\n    A keyword to a saved confgiuration e.g. ``\"neuropixels+kilosort2_5\"`` (this comes with ``spikewrap``).\n**dictionary**:\n    A ``dict`` with ``\"preprocessing\"`` and ``\"sorting\"`` keys (more details below).\n**.yaml**:\n    A YAML file, which is the ``configs`` dictionary dumped to file.\n\nIn this tutorial we will cover how to run processing steps with configs,\nas well as how to make, share and save your own pipelines.\n"
      ]
    },
    {
      "cell_type": "markdown",
      "metadata": {},
      "source": [
        "## ``configs`` as a name\nThe easiest way to manage already-established ``configs`` is to\npass a keyword that refers to a previously saved pipeline.\n\nFor example, we can use the ``\"neuropixels+kilosort2_5\"``  in :class:`spikewrap.Session.preprocess`:\n\n.. code-block:\n\n    session.preprocess(\"neuropixels+kilosort2_5\", ...)\n\nand print the underlying steps with:\n\n"
      ]
    },
    {
      "cell_type": "code",
      "execution_count": null,
      "metadata": {
        "collapsed": false
      },
      "outputs": [],
      "source": [
        "import spikewrap as sw\n\nsw.show_configs(\"neuropixels+kilosort2_5\")"
      ]
    },
    {
      "cell_type": "markdown",
      "metadata": {},
      "source": [
        "It is possible to create and share your own keyword configs. Under the hood,\nthese are ``.yaml`` files that hold a python dictionary representation of the steps.\nThese are stored in a dedicated path, (``spikewrap`` in your user directory), which\nyou can find with:\n\n"
      ]
    },
    {
      "cell_type": "code",
      "execution_count": null,
      "metadata": {
        "collapsed": false
      },
      "outputs": [],
      "source": [
        "sw.get_configs_path()"
      ]
    },
    {
      "cell_type": "markdown",
      "metadata": {},
      "source": [
        "and see what configs you have available at this path:\n\n"
      ]
    },
    {
      "cell_type": "code",
      "execution_count": null,
      "metadata": {
        "collapsed": false
      },
      "outputs": [],
      "source": [
        "sw.show_available_configs()"
      ]
    },
    {
      "cell_type": "markdown",
      "metadata": {},
      "source": [
        "Continue reading below to create and save your own pipeline configs.\n\n"
      ]
    },
    {
      "cell_type": "markdown",
      "metadata": {},
      "source": [
        "## ``configs`` as a dictionary\nCustom preprocessing and sorting settings can be defined in a dictionary,\nwith the keys ``preprocessing`` and ``sorting``.\n\n"
      ]
    },
    {
      "cell_type": "code",
      "execution_count": null,
      "metadata": {
        "collapsed": false
      },
      "outputs": [],
      "source": [
        "config_dict = {\n    \"preprocessing\": {\n        \"1\": [\"phase_shift\", {}],\n        \"2\": [\"bandpass_filter\", {\"freq_min\": 300, \"freq_max\": 6000}],\n        \"3\": [\"common_reference\", {\"operator\": \"median\"}]\n    },\n    \"sorting\": {\n        \"kilosort2_5\": {'car': False, 'freq_min': 150}}\n}\n\n# use like:\n# session.preprocess(configs=config_dict, ...)"
      ]
    },
    {
      "cell_type": "markdown",
      "metadata": {},
      "source": [
        ".. dropdown:: ``configs`` dictionary structure\n\n    The structure of a ``configs`` dictionary is :\n      1. The first level is keys ``\"preprocessing\"`` and ``\"sorting\"``\n      2. The ``\"preprocessing\"`` value is a dictionary with string keys,\n         with each a number (starting at ``\"1\"`` and increasing by 1) indicating the order of the preprocessing step.\n      3. The value of each preprocessing step is a list, in which the first entry is\n         he preprocessing step to run, and the second a dictionary of keyword arguments\n         to pass to the function. The preprocessing step name must refer to a\n         [SpikeInterface](https://spikeinterface.readthedocs.io/en/stable/api.html). preprocessing function.\n\nEach preprocessing step and arguments map directly onto the underlying\n[SpikeInterface functions](https://spikeinterface.readthedocs.io/en/stable/api.html).\n\nTo see the currently available preproecssing steps supported by ``spikewrap``, run:\n\n"
      ]
    },
    {
      "cell_type": "code",
      "execution_count": null,
      "metadata": {
        "collapsed": false
      },
      "outputs": [],
      "source": [
        "sw.show_supported_preprocessing_steps()"
      ]
    },
    {
      "cell_type": "markdown",
      "metadata": {},
      "source": [
        "This configs dict can be saved by ``spikewrap`` along with\na name. Then, this name can be used for in future processing steps.\n\n"
      ]
    },
    {
      "cell_type": "code",
      "execution_count": null,
      "metadata": {
        "collapsed": false
      },
      "outputs": [],
      "source": [
        "sw.save_config_dict(config_dict, \"my_config\")\n\n# and then:\n# session.preprocess(configs=\"my_config\", ...)"
      ]
    },
    {
      "cell_type": "markdown",
      "metadata": {},
      "source": [
        "## ``configs`` as a YAML file\n\nWhen the `configs`` dictionary is saved, it is saved as a `.yaml` file.\n\n"
      ]
    },
    {
      "cell_type": "code",
      "execution_count": null,
      "metadata": {
        "collapsed": false
      },
      "outputs": [],
      "source": [
        "sw.save_config_dict(config_dict, \"my_config\")"
      ]
    },
    {
      "cell_type": "markdown",
      "metadata": {},
      "source": [
        "By default, this will be written to the ``spikewrap`` storage path so\n``\"my_config\"`` can be used in ``spikewrap`` processing steps, as above.\n\nUse :func:`spikewrap.get_configs_path` to get the path where these are stored.\n\nAlternatively, this can be output to a path of your choice:\n\n```\nsw.save_config_dict(config_dict, \"my_config\", folder=\"...path_to_folder\")\n```\nIf you have received a pipeline you would like to use, you can load the dictionary, and\nthen save it the ``spikewrap`` config store for easy use:\n\n```\nconfig_dict = sw.load_config_dict(\"...path_to_colleagues_config.yaml\")\nsw.save_config_dict(config_dict, \"colleague_xs_pipeline\")\n\n# Can now run:\n# session.preprocess(configs=\"colleague_xs_pipeline\")\n```\n### Passing a YAML as a file path\n``spikewrap`` functions will take a path to any valid ``configs`` ``.yaml`` file\n\n```\nsession.preprocess(config=\".../my_config.yaml\")\n```\n"
      ]
    },
    {
      "cell_type": "markdown",
      "metadata": {},
      "source": [
        "and we can load ``configs`` from file:\n\n"
      ]
    },
    {
      "cell_type": "code",
      "execution_count": null,
      "metadata": {
        "collapsed": false
      },
      "outputs": [],
      "source": [
        "config_dict = sw.load_config_dict(\n    sw.get_configs_path() / \"neuropixels+kilosort2_5.yaml\"\n)\n\nimport json  # use for printing dicts\nprint(json.dumps(config_dict, indent=4))"
      ]
    }
  ],
  "metadata": {
    "kernelspec": {
      "display_name": "Python 3",
      "language": "python",
      "name": "python3"
    },
    "language_info": {
      "codemirror_mode": {
        "name": "ipython",
        "version": 3
      },
      "file_extension": ".py",
      "mimetype": "text/x-python",
      "name": "python",
      "nbconvert_exporter": "python",
      "pygments_lexer": "ipython3",
      "version": "3.11.11"
    }
  },
  "nbformat": 4,
  "nbformat_minor": 0
}