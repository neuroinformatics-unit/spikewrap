{
  "cells": [
    {
      "cell_type": "markdown",
      "metadata": {},
      "source": [
        "\n\n# Spike Sorting\n\n<div class=\"alert alert-info\"><h4>Note</h4><p>This is a long-form tutorial on sorting. See `here <sorting-howto>` for a quick how-to.</p></div>\n"
      ]
    },
    {
      "cell_type": "markdown",
      "metadata": {},
      "source": [
        "## Running Sorting after Preprocessing\n\nSpike sorting can be run on preprocessed data, even without saving to disk,\nusing the :class:`spikewrap.Session.sort` function.\n\nThis wraps [SpikeInterface's](https://spikeinterface.readthedocs.io/en/stable/),\nmodule. The list of available sorters can be found in\n[their documentation.](https://spikeinterface.readthedocs.io/en/stable/modules/sorters.html#supported-spike-sorters)\n\nFor example, to run spike sorting after preprocessing (without saving the preprocessed data to disk):\n\n"
      ]
    },
    {
      "cell_type": "code",
      "execution_count": null,
      "metadata": {
        "collapsed": false
      },
      "outputs": [],
      "source": [
        "import spikewrap as sw\n\nsession = sw.Session(\n    subject_path=sw.get_example_data_path() / \"rawdata\" / \"sub-001\",\n    session_name=\"ses-001\",\n    file_format=\"spikeglx\",  # or \"openephys\"\n    run_names=\"all\"\n)\n\nsession.preprocess(\n    configs=\"neuropixels+mountainsort5\",\n    per_shank=False,\n    concat_runs=True\n)\n\nsession.sort(\n    \"neuropixels+mountainsort5\",\n    run_sorter_method=\"local\",\n    per_shank=True,\n    concat_runs=False,\n)"
      ]
    },
    {
      "cell_type": "markdown",
      "metadata": {},
      "source": [
        "Sorting results are output to a folder called ``sorting`` in the run's output folder:\n\n```\n\u2514\u2500\u2500 my_project/\n    \u2514\u2500\u2500 derivatives/\n        \u2514\u2500\u2500 sub-001  /\n            \u2514\u2500\u2500 ses-001/\n                \u2514\u2500\u2500 ephys/\n                    \u251c\u2500\u2500 concat_run/\n                    \u2502   \u251c\u2500\u2500 preprocessed/\n                    \u2502   \u2502   \u2514\u2500\u2500 <preprocessed_data>\n                    \u2502   \u2514\u2500\u2500 sorting/\n                    \u2502       \u2514\u2500\u2500 shank_0\n                    \u2502           \u2514\u2500\u2500 ...\n                    \u2502       \u2514\u2500\u2500 shank_1\n                    \u2502           \u2514\u2500\u2500 ...\n                    \u2514\u2500\u2500 ...\n```\nThe ``per_shank`` and ``concat_runs`` arguments on the ``sort`` function\nindicate whether the recording should be split per shank or concatenated\nprior to sorting. If the recording has already been split-by-shank\nand / or concatenated at the preprocessing stage, they will remain so for sorting.\n\nIn the example above, runs are concatenated before preprocessing and then the\nconcatenated run is sorted. The shanks are preprocessed together, and then\nsplit before sorting.\n\nSee `Sorting Configs <sorting-configs>` below for information on\nhow to select and configure the sorter to use.\n\n## Running Sorting from Saved Preprocessing\n\nAlternatively, the preprocessed data might be saved prior to sorting.\nIn this case, sorting can be run directly from the saved data.\nFor example, first preprocessed recordings are saved:\n\n"
      ]
    },
    {
      "cell_type": "code",
      "execution_count": null,
      "metadata": {
        "collapsed": false
      },
      "outputs": [],
      "source": [
        "session = sw.Session(\n    subject_path=sw.get_example_data_path() / \"rawdata\" / \"sub-001\",\n    session_name=\"ses-001\",\n    file_format=\"spikeglx\",  # or \"openephys\"\n    run_names=\"all\"\n)\n\nsession.preprocess(\n    configs=\"neuropixels+mountainsort5\", concat_runs=True\n)\n\nsession.save_preprocessed(overwrite=True)"
      ]
    },
    {
      "cell_type": "markdown",
      "metadata": {},
      "source": [
        "In a new session, the sorting can be run directly, and will be loaded\nfrom the previously saved preprocessed data:\n\n"
      ]
    },
    {
      "cell_type": "code",
      "execution_count": null,
      "metadata": {
        "collapsed": false
      },
      "outputs": [],
      "source": [
        "session = sw.Session(\n    subject_path=sw.get_example_data_path() / \"rawdata\" / \"sub-001\",\n    session_name=\"ses-001\",\n    file_format=\"spikeglx\",\n    run_names=[\"concat_run\"]\n)\n\n# Here, the preprocessed data will be detected and loaded from disk, if available.\n# Otherwise, an error will be raised.\n\nsession.sort(\n    configs=\"neuropixels+mountainsort5\", run_sorter_method=\"local\"\n)"
      ]
    },
    {
      "cell_type": "markdown",
      "metadata": {},
      "source": [
        "<div class=\"alert alert-danger\"><h4>Warning</h4><p>If preprocessing is run in memory, it will take precedence over previously\n   saved preprocessed runs. The preprocessed data generated on the last call\n   to :class:`spikewrap.Session.preprocess` will be used for sorting, even if saved data exists.\n\n   For example:\n\n```\nsession.preprocess(configs_dict_1)\n\nsession.save_preprocessed()\n\nsession.preprocess(configs_dict_2)\n\nsession.sort()\n```\n   In this case, sorting will be run on the data preprocessed by ``configs_dict_2``.\n   As such, it is recommended to save the preprocessed data only when\n   configurations have been decided on.</p></div>\n\n"
      ]
    },
    {
      "cell_type": "markdown",
      "metadata": {},
      "source": [
        "## Ways to run the sorter\n\nThe ``run_sorter_method`` argument specifies the method used to run the sorter.\nThese are based on the extensive options provided by the SpikeInterface package,\nwhich provide great flexibility in ways that sorters can be run. The options are:\n\n``\"local\"``:\n  Used if the sorter can be run in the current python environment,\n  (i.e. it is a sorter written in Python, such as ``\"kilosort4\"`` or ``\"spykingcircus2\"``).\n\nA ``Path`` object:\n   A path to the sorter repository, if the sorter is written in Matlab (e.g. kilosort 1-3, ``\"waveclus\"``)\n   and Matlab is installed on your system. For example, to run kilosort 2.5 download\n   [their repository](https://github.com/MouseLand/Kilosort/tree/kilosort25) (note the branch is changed\n   to '`kilosort25`') then pass a path to the ``Kilosort`` directory.\n\n``\"singularity\"``:\n   Use singularity to run the sorter in a container. This is useful is you want to\n   run a sorter written in Matlab, but do not have Matlab available on your system.\n   Under the hood, Matlab is pre-installed in the singularity image.\n   Singularity images will be downloaded and saved in a ``sorter_images`` folder at the\n   same level as ``rawdata`` / ``derivatives``. Download is only required once, then the images\n   shared across the entire project.\n\n``\"docker\"``:\n  Run the sorter in a docker image. The docker client will manage the downloading of sorters.\n\n"
      ]
    },
    {
      "cell_type": "markdown",
      "metadata": {},
      "source": [
        "## Sorting Configs\n\nA configurations dictionary (see `Managing Configs <configs-tutorial>`) is structured like:\n\n"
      ]
    },
    {
      "cell_type": "code",
      "execution_count": null,
      "metadata": {
        "collapsed": false
      },
      "outputs": [],
      "source": [
        "config_dict = {\n    \"preprocessing\": {\n        \"1\": [\"phase_shift\", {}],\n        \"2\": [\"bandpass_filter\", {\"freq_min\": 300, \"freq_max\": 6000}],\n        \"3\": [\"common_reference\", {\"operator\": \"median\"}]\n    },\n    \"sorting\": {\n        \"mountainsort5\": {\"filter\": False}}\n}"
      ]
    },
    {
      "cell_type": "markdown",
      "metadata": {},
      "source": [
        "The :class:`spikewrap.Session.sort` function will accept the name\nof the stored config file, the full config dictionary such as above,\nor the \"sorting\" sub-dictionary, e.g.:\n\n```python\nsorting_dict = {\"sorting\": {\"mountainsort5\": {\"filter\": False}}}\n\nsession.sort(\n    configs=sorting_dict, run_sorter_method=\"local\"\n)\n```\n"
      ]
    },
    {
      "cell_type": "markdown",
      "metadata": {},
      "source": [
        "The sorter name (e.g. ``\"mountainsort5\"``) should make the\n[SpikeInterface sorter name](https://spikeinterface.readthedocs.io/en/latest/modules/sorters.html#supported-spike-sorters),\nwhile the keyword-arguments should match the sorter-specific arguments.These can be found at the\ncorresponding source code files for the SpikeInterface sorter, e.g.\n[kilsort2_5](https://github.com/SpikeInterface/spikeinterface/blob/697058eb528394f89ae4b5d03aa56c1ba3ec9db2/src/spikeinterface/sorters/external/kilosort2_5.py#L32),\n[kilsort4](https://github.com/SpikeInterface/spikeinterface/blob/697058eb528394f89ae4b5d03aa56c1ba3ec9db2/src/spikeinterface/sorters/external/kilosort4.py#L18),\n[mountainsort5](https://github.com/SpikeInterface/spikeinterface/blob/697058eb528394f89ae4b5d03aa56c1ba3ec9db2/src/spikeinterface/sorters/external/mountainsort5.py#L18) or\n[spykingcircus2\"](https://github.com/SpikeInterface/spikeinterface/blob/697058eb528394f89ae4b5d03aa56c1ba3ec9db2/src/spikeinterface/sorters/internal/spyking_circus2.py#L23).\n\n"
      ]
    }
  ],
  "metadata": {
    "kernelspec": {
      "display_name": "Python 3",
      "language": "python",
      "name": "python3"
    },
    "language_info": {
      "codemirror_mode": {
        "name": "ipython",
        "version": 3
      },
      "file_extension": ".py",
      "mimetype": "text/x-python",
      "name": "python",
      "nbconvert_exporter": "python",
      "pygments_lexer": "ipython3",
      "version": "3.11.11"
    }
  },
  "nbformat": 4,
  "nbformat_minor": 0
}