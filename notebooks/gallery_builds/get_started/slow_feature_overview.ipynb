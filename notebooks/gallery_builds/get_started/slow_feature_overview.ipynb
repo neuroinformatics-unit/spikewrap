{
  "cells": [
    {
      "cell_type": "markdown",
      "metadata": {},
      "source": [
        "# Feature Overview\n`(2 minute read)`\n\n\n``spikewrap`` provides a Python interface for managing and\nsharing standardized extracellular electrophysiology pipelines.\n\nBuilt on [SpikeInterface](https://github.com/SpikeInterface/spikeinterface),\n``spikewrap`` places emphasis on delivering standardised outputs and\nmaterials for convenient data quality checks.\n\n.. attention::\n\n   ``spikewrap`` is currently in a consultation stage, where feedback on the\n   workflow is being actively solicited. New features\u2014such as sorting,\n   subject-level analysis, quality checks and additional preprocessing steps\u2014are planned for implementation soon.\n\n   Please `get in contact <community>` with feedback and suggestions!\n\n## Running ``spikewrap``\n\n``spikewrap`` expects a project to be organised either in\n[NeuroBlueprint](https://neuroblueprint.neuroinformatics.dev/latest/index.html)\nformat (which is `recommended <neuroblueprint-recommended>`), for example:\n\n.. tab-set::\n    :sync-group: category\n\n    .. tab-item:: SpikeGLX\n\n```\n\u2514\u2500\u2500 rawdata/\n    \u2514\u2500\u2500 sub-001_.../\n        \u2514\u2500\u2500 ses-001_.../\n            \u2514\u2500\u2500 ephys/\n                \u251c\u2500\u2500 run-001_g0_imec0/\n                \u2502   \u251c\u2500\u2500 run-001_g0_t0.imec0.ap.bin\n                \u2502   \u2514\u2500\u2500 run-001_g0_t0.imec0.ap.meta\n                \u2514\u2500\u2500 run-002_g0_imec0/\n                \u2502   \u251c\u2500\u2500 ...\n                \u2514\u2500\u2500 ...\n```\n    .. tab-item:: OpenEphys\n\n```\n\u2514\u2500\u2500 rawdata/\n    \u2514\u2500\u2500 sub-001_.../\n        \u2514\u2500\u2500 ses-001_.../\n            \u2514\u2500\u2500 ephys/\n                \u2514\u2500\u2500 Recording Node <ID>/\n                    \u2514\u2500\u2500 experiment1/\n                        \u251c\u2500\u2500 recording1/\n                        \u2502   \u2514\u2500\u2500 ...\n                        \u2514\u2500\u2500 recording2/\n                        \u2502   \u2514\u2500\u2500 ...\n                        \u2514\u2500\u2500 ...\n```\nor in custom formats with subject, session and recording folder levels as below:\n\n.. dropdown:: Supported Custom Organisation\n\n    .. tab-set::\n        :sync-group: category\n\n        .. tab-item:: SpikeGLX\n\n```\n\u2514\u2500\u2500 root_folder>/\n    \u2514\u2500\u2500 my_subject_name/\n        \u2514\u2500\u2500 my_session_name/\n            \u251c\u2500\u2500 run-001_g0_imec0/\n            \u2502   \u251c\u2500\u2500 run-001_g0_t0.imec0.ap.bin\n            \u2502   \u2514\u2500\u2500 run-001_g0_t0.imec0.ap.meta\n            \u2514\u2500\u2500 run-002_g0_imec0/\n            \u2502   \u251c\u2500\u2500 ...\n            \u2514\u2500\u2500 ...\n```\n        .. tab-item:: OpenEphys\n\n            In the OpenEphys case, the input data would look like:\n\n```\n\u2514\u2500\u2500 root_folder/\n    \u2514\u2500\u2500 my_subject_name/\n        \u2514\u2500\u2500 my_session_name/\n            \u2514\u2500\u2500 Recording Node <ID>/\n                \u2514\u2500\u2500 experiment1/\n                    \u251c\u2500\u2500 recording1/\n                    \u2502   \u2514\u2500\u2500 ...\n                    \u2514\u2500\u2500 recording2/\n                    \u2502   \u2514\u2500\u2500 ...\n                    \u2514\u2500\u2500 ...\n```\nRecordings acquired with [SpikeGlx](https://billkarsh.github.io/SpikeGLX/) or [OpenEphys](https://open-ephys.org/)\nare currently supported (see `Supported Formats <supported-formats>` for details).\n[Neuropixels](https://www.neuropixels.org/) probes are automatically detected, otherwise a ``probe``\nargument can be used to set [ProbeInterface](https://probeinterface.readthedocs.io/en/main/) objects.\n\nWe can preprocess, visualise and save a recording session with a few function calls:\n"
      ]
    },
    {
      "cell_type": "code",
      "execution_count": null,
      "metadata": {
        "collapsed": false
      },
      "outputs": [],
      "source": [
        "import spikewrap as sw\n\nsubject_path = sw.get_example_data_path() / \"rawdata\" / \"sub-001\"\n\n\nsession = sw.Session(\n    subject_path=subject_path,\n    session_name=\"ses-001\",\n    file_format=\"spikeglx\",  # or \"openephys\"\n    run_names=\"all\",\n    probe=None,  # optional argument to set probe\n)\n\nsession.save_sync_channel()\n\n# Run (lazy) preprocessing, for fast plotting\n# and prototyping of preprocessing steps\n\nsession.preprocess(\n    configs=\"neuropixels+mountainsort5\",\n    per_shank=True,\n    concat_runs=False,\n)\n\nplots = session.plot_preprocessed(\n    run_idx=0,\n    time_range=(0, 0.5),\n    show_channel_ids=False,\n    show=True\n)\n\n# Write preprocessed data to disk, optionally\n# in a SLURM job (if on a HPC)\n\nsession.save_preprocessed(\n    overwrite=True,\n    n_jobs=12,\n    slurm=False\n)\n\n# In this example, runs were preprocessed separately,\n# and are concatenated together before sorting.\nsession.sort(\n    configs=\"neuropixels+mountainsort5\",\n    run_sorter_method=\"local\",\n    concat_runs=True,\n)"
      ]
    },
    {
      "cell_type": "markdown",
      "metadata": {},
      "source": [
        "with data output to the standardised\n[NeuroBlueprint](https://neuroblueprint.neuroinformatics.dev/latest/index.html)\nstructure:\n\n```none\n\u2514\u2500\u2500 root_folder/\n    \u2514\u2500\u2500 derivatives/\n        \u2514\u2500\u2500 sub-001/\n            \u2514\u2500\u2500 ses-001  /\n                \u2514\u2500\u2500 ephys/\n                    \u251c\u2500\u2500 run-001_g0_imec0/\n                    \u2502   \u251c\u2500\u2500 preprocessed/\n                    \u2502   \u2502   \u251c\u2500\u2500 shank_0/\n                    \u2502   \u2502   \u2502   \u2514\u2500\u2500 si_recording/\n                    \u2502   \u2502   \u2502       \u2514\u2500\u2500 <spikeinterface_binary>\n                    \u2502   \u2502   \u2514\u2500\u2500 shank_1/\n                    \u2502   \u2502       \u2514\u2500\u2500 si_recording/\n                    \u2502   \u2502           \u2514\u2500\u2500 <spikeinterface_binary>\n                    \u2502   \u2514\u2500\u2500 sync/\n                    \u2502       \u2514\u2500\u2500 sync_channel.npy\n                    \u251c\u2500\u2500 run-002_g0_imec0/\n                    \u2502   \u2514\u2500\u2500 preprocessed/\n                    \u2502       \u2514\u2500\u2500 ...\n                    \u2514\u2500\u2500 concat_run/\n                        \u2514\u2500\u2500 sorting/\n                            \u251c\u2500\u2500 shank_0/\n                            \u2502   \u2514\u2500\u2500 ...\n                            \u2514\u2500\u2500 ...\n```\n"
      ]
    },
    {
      "cell_type": "markdown",
      "metadata": {},
      "source": [
        "Next, visit `get-started` and `tutorials_index` to try out ``spikewrap``.\n\n"
      ]
    }
  ],
  "metadata": {
    "kernelspec": {
      "display_name": "Python 3",
      "language": "python",
      "name": "python3"
    },
    "language_info": {
      "codemirror_mode": {
        "name": "ipython",
        "version": 3
      },
      "file_extension": ".py",
      "mimetype": "text/x-python",
      "name": "python",
      "nbconvert_exporter": "python",
      "pygments_lexer": "ipython3",
      "version": "3.11.11"
    }
  },
  "nbformat": 4,
  "nbformat_minor": 0
}