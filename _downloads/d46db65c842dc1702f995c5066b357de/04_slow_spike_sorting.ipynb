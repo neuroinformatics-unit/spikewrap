{
  "cells": [
    {
      "cell_type": "markdown",
      "metadata": {},
      "source": [
        "\n\n# How  to run Spike Sorting\n\n<div class=\"alert alert-info\"><h4>Note</h4><p>This is a quick how-to on spike sorting. See `here <sorting-tutorial>` for a long-form tutorial.</p></div>\n"
      ]
    },
    {
      "cell_type": "code",
      "execution_count": null,
      "metadata": {
        "collapsed": false
      },
      "outputs": [],
      "source": [
        "import spikewrap as sw\n\nsession = sw.Session(\n    subject_path=sw.get_example_data_path() / \"rawdata\" / \"sub-001\",\n    session_name=\"ses-001\",\n    file_format=\"spikeglx\",  # or \"openephys\"\n    run_names=\"all\"\n)\n\nsession.preprocess(\n    configs=\"neuropixels+mountainsort5\",\n    concat_runs=True  # concatenate runs before preprocessing\n)\n\n# Optional: session.save_preprocessed(overwrite=True)\n# The sorting is run with data generated in the most recent\n# `preprocess()` call, even if data is saved.\n# If `preprocess()` is not called, saved data will be used.\n\nsession.sort(\n    \"neuropixels+mountainsort5\",\n    run_sorter_method=\"local\",  # or a path to matlab repository, \"singularity\" or \"docker\"\n    per_shank=True,\n    concat_runs=False,  # concatenate runs before sorting\n)"
      ]
    }
  ],
  "metadata": {
    "kernelspec": {
      "display_name": "Python 3",
      "language": "python",
      "name": "python3"
    },
    "language_info": {
      "codemirror_mode": {
        "name": "ipython",
        "version": 3
      },
      "file_extension": ".py",
      "mimetype": "text/x-python",
      "name": "python",
      "nbconvert_exporter": "python",
      "pygments_lexer": "ipython3",
      "version": "3.11.11"
    }
  },
  "nbformat": 4,
  "nbformat_minor": 0
}