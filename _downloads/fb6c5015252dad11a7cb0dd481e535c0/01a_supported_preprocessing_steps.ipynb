{
  "cells": [
    {
      "cell_type": "markdown",
      "metadata": {},
      "source": [
        "\n\n# Supported Preprocessing Steps\n\nIn ``spikewrap``, all preprocessing is performed using\n[SpikeInterface](https://spikeinterface.readthedocs.io/en/stable/)\nunder the hood.\n\nIn the majority of cases, preprocessing settings in the configuration dictionary\nmap 1:1 with spikeinterface function names and their arguments.\n\nIn a few cases (highlighted below) this is not possible, and these functions are documented below.\nIn time, the aim will be to transfer all preprocessing into SpikeInterface.\n \nAs a reminder, an example configuration dictionary is strictured like:\n"
      ]
    },
    {
      "cell_type": "code",
      "execution_count": null,
      "metadata": {
        "collapsed": false
      },
      "outputs": [],
      "source": [
        "pp_steps = {\n    \"1\": [\"phase_shift\", {}],\n    \"2\": [\"bandpass_filter\", {\"freq_min\": 300, \"freq_max\": 6000}],\n    \"3\": [\"remove_bad_channels\", {\"detect_bad_channel_kwargs\": {\"chunk_duration_s\": 0.5}}],\n    \"4\": [\"common_reference\", {\"operator\": \"median\"}],\n}"
      ]
    },
    {
      "cell_type": "markdown",
      "metadata": {},
      "source": [
        "(see the `the Managing Configs tutorials <configs-tutorial>` for details).\n\n"
      ]
    },
    {
      "cell_type": "markdown",
      "metadata": {},
      "source": [
        "## Steps that directly map SpikeInterface\n\n### ``phase_shift``\nThe name and arguments map directly to SpikeInterface's\n[phase_shift](https://spikeinterface.readthedocs.io/en/latest/api.html#spikeinterface.preprocessing.phase_shift)\nfunction.\n\n### ``bandpass_filter``:\nThe name and arguments map directly to SpikeInterface's\n[bandpass_filter](https://spikeinterface.readthedocs.io/en/latest/api.html#spikeinterface.preprocessing.bandpass_filter)\nfunction.\n\n### ``common_reference``:\nThe name and arguments map directly to SpikeInterface's\n[common_reference](https://spikeinterface.readthedocs.io/en/latest/api.html#spikeinterface.preprocessing.common_reference)\nfunction.\n\n### ``whiten``:\nThe name and arguments map directly to SpikeInterface's\n[whiten](https://spikeinterface.readthedocs.io/en/latest/api.html#spikeinterface.preprocessing.whiten)\nfunction.\n\n"
      ]
    },
    {
      "cell_type": "markdown",
      "metadata": {},
      "source": [
        "## Steps that do not directly map SpikeInterface\n\nWhile these steps use SpikeInterface under the hood, they do not map 1:1 to\nthe SpikeInterface API.\n\nFor reference, their implementations are in ``spikewrap.process._preprocessing``\n(however, they should not be called directly, instead use the config_dict as above).\n\n<div class=\"alert alert-info\"><h4>Note</h4><p>Currently, bad-channel detection is performed per-run (if not concatenated). In some cases it is useful\n    to remove the union of all bad channels (across runs from each run). This is not currently implemented in\n    spikewrap, but if you would like to use this, please get in contact.</p></div>\n\n<div class=\"alert alert-danger\"><h4>Warning</h4><p>Bad-channel detection is performed at the :class:`spikewrap.Session.preprocess` stage,  and so may slow down\n    this call. This is in contract to other preprocessing steps which are lazy.</p></div>\n\n### ``remove_bad_channels``\n\nThis function removes bad channels from the recording. Under the hood it uses SpikeInterface's\n[detect_bad_channels](https://spikeinterface.readthedocs.io/en/latest/api.html#spikeinterface.preprocessing.detect_bad_channels)\nand [remove_channels](https://spikeinterface.readthedocs.io/en/latest/modules/preprocessing.html#detect-bad-channels-interpolate-bad-channels)_ functions.\nThe default settings use the International Brain Laboratory's (IBLs)\n[detect bad channels approach](https://figshare.com/articles/online_resource/Spike_sorting_pipeline_for_the_International_Brain_Laboratory/19705522?file=49783080). It's parameters are:\n\n* ``labels_to_remove``: Set the bad-channel labels to remove. During bad channel detection, channels are labelled ``\"good\"``, ``\"out\"`` (of brain), ``\"noise\"`` and ``\"dead\"\"``. This argument removes channels that have the passed labels. e.g. ``[\"noise\", \"dead\"]`` will remove only dead and noisy channels, but out of brain and good channels will be retained.\n* ``detect_bad_channel_kwargs``: A dictionary of arguments that will be passed to SpikeInterface's [detect_bad_channels](https://spikeinterface.readthedocs.io/en/latest/api.html#spikeinterface.preprocessing.detect_bad_channels).\n\n### ``interpolate_bad_channels``\n\nThis function interpolates (Kriging) bad channels in the recording. Under the hood it uses SpikeInterface's\n[detect_bad_channels](https://spikeinterface.readthedocs.io/en/latest/api.html#spikeinterface.preprocessing.detect_bad_channels)_ and\n[interpolate_bad_channels](https://spikeinterface.readthedocs.io/en/latest/modules/preprocessing.html#detect-bad-channels-interpolate-bad-channels)_ function.\nNote that the spikeinterface ``interpolate_bad_channels`` only interpolates a given list of channels, rather than the detect-and-interpolate performed in ``spikewrap``.\nThe default method uses the International Brain Laboratory's (IBLs)\n[detect bad channels approach](https://figshare.com/articles/online_resource/Spike_sorting_pipeline_for_the_International_Brain_Laboratory/19705522?file=49783080)\n\n* ``labels_to_remove``: Set the bad-channel labels to interpolate. During bad channel detection, channels are labelled ``\"good\"``, ``\"out\"`` (of brain), ``\"noise\"`` and ``\"dead\"\"``. This argument interpolates channels that have the passed labels. e.g. ``[\"noise\", \"dead\"]`` will interpolate only dead and noisy channels, but out of brain and good channels will be retained.\n* ``detect_bad_channel_kwargs``: A dictionary of arguments that will be passed to SpikeInterface's [detect_bad_channels](https://spikeinterface.readthedocs.io/en/latest/api.html#spikeinterface.preprocessing.detect_bad_channels).\n* ``interpolate_bad_channel_kwargs``: A dictionary of kwargs that will be passed to SpikeInterface's [interpolate_bad_channels](https://spikeinterface.readthedocs.io/en/latest/modules/preprocessing.html#detect-bad-channels-interpolate-bad-channels)_ function that performs the interpolation (but not detection).\n\n### ``remove_channels``\n\nThis function to remove a given list of channels from the recording.\nUses SpikeInterface's [whiten](https://spikeinterface.readthedocs.io/en/latest/api.html#spikeinterface.preprocessing.whiten)_ function.\n\n* ``channel_ids``: A list of channel ids to remove from the recording.\n\n### ``interpolate_channels``\n\nThis function to interpolate (Kriging) a given list of channels in the recording.\nUses SpikeInterface's [interpolate_bad_channels](https://spikeinterface.readthedocs.io/en/latest/api.html#spikeinterface.preprocessing.whiten)_ function.\n\n* ``channel_ids``: A list of channel ids to interpolate.\n* ``interpolate_bad_channel_kwargs``: A dictionary of kwargs that will be passed to SpikeInterface's [interpolate_bad_channels](https://spikeinterface.readthedocs.io/en/latest/modules/preprocessing.html#detect-bad-channels-interpolate-bad-channels)_ function that performs the interpolation (but not detection).\n\n\n"
      ]
    }
  ],
  "metadata": {
    "kernelspec": {
      "display_name": "Python 3",
      "language": "python",
      "name": "python3"
    },
    "language_info": {
      "codemirror_mode": {
        "name": "ipython",
        "version": 3
      },
      "file_extension": ".py",
      "mimetype": "text/x-python",
      "name": "python",
      "nbconvert_exporter": "python",
      "pygments_lexer": "ipython3",
      "version": "3.11.11"
    }
  },
  "nbformat": 4,
  "nbformat_minor": 0
}