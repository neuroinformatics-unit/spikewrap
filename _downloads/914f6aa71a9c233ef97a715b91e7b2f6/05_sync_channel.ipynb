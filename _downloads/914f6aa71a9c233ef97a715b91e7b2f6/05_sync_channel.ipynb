{
  "cells": [
    {
      "cell_type": "markdown",
      "metadata": {},
      "source": [
        "\n\n# Sync Channel Tutorial\n\n<div class=\"alert alert-info\"><h4>Note</h4><p>This is a long-form tutorial on sorting. See `here <sync-channel-howto>` for a quick how-to.</p></div>\n"
      ]
    },
    {
      "cell_type": "code",
      "execution_count": null,
      "metadata": {
        "collapsed": false
      },
      "outputs": [],
      "source": [
        "# --- hide: start ---\nimport shutil\nimport spikewrap as sw\nif (derivatives_path := sw.get_example_data_path(\"openephys\") / \"derivatives\").is_dir():\n    shutil.rmtree(derivatives_path)\n# --- hide: stop ---"
      ]
    },
    {
      "cell_type": "markdown",
      "metadata": {},
      "source": [
        "<div class=\"alert alert-danger\"><h4>Warning</h4><p>Currently, the only supported sync channel is from Neuropixels Imec stream\n    (in which it is the 385th channel). Please get in contact to see other cases supported.</p></div>\n\nSync channels are used in extracellular electrophysiology to coordinate timestamps\nfrom across acquisition devices.\n\nIn ``spikewrap``, the sync channel can be inspected and edited. **This step\nmust be performed prior to preprocessing**.\n\n<div class=\"alert alert-danger\"><h4>Warning</h4><p>``spikewrap`` does not currently provide any methods for concatenating the sync channel.\n    This is because a straightforward concatenation may be error prone\n    [(see here for more details)](https://spikeinterface.readthedocs.io/en/latest/api.html#spikeinterface.preprocessing.silence_periods).\n    We are keen to extend sync-channel processing functionality, please get in contact with your use-case\n    to help usc extend support.</p></div>\n\n"
      ]
    },
    {
      "cell_type": "markdown",
      "metadata": {},
      "source": [
        "## Inspecting the sync channel\n\nThe sync channel data can be obtained as a numpy array, or plot.\nRaw data must be loaded prior to working with the sync channel.\nThe sync channel for a particular run is specified with the ``run_idx``\nparameter. Runs are accessed in the order they are loaded (as specified\nwith ``run_names``, see :class:`spikewrap.Session.get_raw_run_names`).\n\nIn this toy example data, the sync channel is set to all ones (typically,\nit would be all ``0`` interspersed with ``1`` indicating triggers).\n\n"
      ]
    },
    {
      "cell_type": "code",
      "execution_count": null,
      "metadata": {
        "collapsed": false
      },
      "outputs": [],
      "source": [
        "import spikewrap as sw\n\nsession = sw.Session(\n    subject_path=sw.get_example_data_path(\"openephys\") / \"rawdata\" / \"sub-001\",\n    session_name=\"ses-001\",\n    file_format=\"openephys\",\n    run_names=\"all\"\n)\n\nsession.load_raw_data()\n\nsession.get_raw_run_names()\n\n# get the sync channel data as a numpy array\nrun_1_sync_channel = session.get_sync_channel(run_idx= 0)\n\n# or plot the sync channel\nplot = session.plot_sync_channel(run_idx=0, show=True)  # TODO: accept the plot and explain. also explain the results"
      ]
    },
    {
      "cell_type": "markdown",
      "metadata": {},
      "source": [
        "## Zeroing out the sync channel\n\nThe sync channel can be edited to remove triggers by setting periods of\nthe sync channel to zero:\n\n"
      ]
    },
    {
      "cell_type": "code",
      "execution_count": null,
      "metadata": {
        "collapsed": false
      },
      "outputs": [],
      "source": [
        "session.silence_sync_channel(\n    run_idx=0,\n    periods_to_silence=[(0, 250), (500, 750)]\n)"
      ]
    },
    {
      "cell_type": "markdown",
      "metadata": {},
      "source": [
        "The function takes a list of 2-tuples, where the entries\nindicate the start and end of the period to zero (in samples).\n\nUnder the hood this uses the spikeinterface function\n[silence_periods()](https://spikeinterface.readthedocs.io/en/latest/api.html#spikeinterface.preprocessing.silence_periods),\nto zero-out sections of the sync channel.\n\nAfter plotting the edited sync channel, we see that the periods\ndefined above have been zeroed out:\n\n"
      ]
    },
    {
      "cell_type": "code",
      "execution_count": null,
      "metadata": {
        "collapsed": false
      },
      "outputs": [],
      "source": [
        "plot = session.plot_sync_channel(run_idx=0, show=True)"
      ]
    },
    {
      "cell_type": "markdown",
      "metadata": {},
      "source": [
        "## Refreshing the sync channel\n\nTo undo any changes made to the sync-channel, the raw data\ncan be reloaded:\n\n\n"
      ]
    },
    {
      "cell_type": "code",
      "execution_count": null,
      "metadata": {
        "collapsed": false
      },
      "outputs": [],
      "source": [
        "session.load_raw_data(overwrite=True)\n\n# The sync channel is back to original (silenced periods removed)\nplot = session.plot_sync_channel(run_idx=0, show=True)"
      ]
    },
    {
      "cell_type": "markdown",
      "metadata": {},
      "source": [
        "## Saving the sync channel\n\nThe sync channel can be saved with:\n\n"
      ]
    },
    {
      "cell_type": "code",
      "execution_count": null,
      "metadata": {
        "collapsed": false
      },
      "outputs": [],
      "source": [
        "session.save_sync_channel(overwrite=False, slurm=False)"
      ]
    },
    {
      "cell_type": "markdown",
      "metadata": {},
      "source": [
        "which will save the sync channel for all loaded runs to the run folder.\nSee the `SLURM tutorial <slurm-tutorial>` for more information on using slurm.\n\n\n"
      ]
    }
  ],
  "metadata": {
    "kernelspec": {
      "display_name": "Python 3",
      "language": "python",
      "name": "python3"
    },
    "language_info": {
      "codemirror_mode": {
        "name": "ipython",
        "version": 3
      },
      "file_extension": ".py",
      "mimetype": "text/x-python",
      "name": "python",
      "nbconvert_exporter": "python",
      "pygments_lexer": "ipython3",
      "version": "3.11.11"
    }
  },
  "nbformat": 4,
  "nbformat_minor": 0
}