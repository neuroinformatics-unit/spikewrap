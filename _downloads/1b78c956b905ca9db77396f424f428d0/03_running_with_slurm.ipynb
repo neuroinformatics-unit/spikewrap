{
  "cells": [
    {
      "cell_type": "markdown",
      "metadata": {},
      "source": [
        "\n\n# Running with SLURM\n\n<div class=\"alert alert-info\"><h4>Note</h4><p>This is a long-form tutorial on SLURM. See `here <slurm-howto>` for a quick how-to.</p></div>\n\n## What is SLURM?\n\nSLURM is a job-manager used in high-performance computing (HPC) systems).\nIts purpose is to ensure the resources of the HPC are distributed fairly\nbetween users. \n\nUsers request resources from SLURM to run their jobs, and are allocated\nthe resources in a priority order calculated by SLURM.\n\n## Why use SLURM?\n\nSLURM can be used to run jobs at certain computationally-heavy steps\nin the preprocessing pipeline.\n\nIn [SpikeInterface](https://spikeinterface.readthedocs.io/en/stable/),\ndata loading and many preprocessing steps are 'lazy', meaning operations are only\nperformed on data as they are needed. This makes certain operations very fast,\nsuch as:\n\n```\nsession.preprocess(...)\nsession.plot_preprocessed(time_range=(0, 1), ...)\n```\nOnly the 1 second of data that is visualized is actually preprocessed.\n\nHowever, other operations will preprocess the entire dataset, like\n:func:`spikewrap.Session.save_preprocessed` and sorting.\n\nBecause such steps are computationally intensive, SLURM can be used to request\ndedicated resources to run the job on. It will then run in the background, allowing you\nto do other things, as well as run multiple jobs at once in parallel.\n"
      ]
    },
    {
      "cell_type": "markdown",
      "metadata": {},
      "source": [
        "## Running a single function with SLURM\n\nIn ``spikewrap``, methods which are computationally intensive admit a ``slurm`` argument\nWhen set, the function will be run within a SLURM job:\n\n```python\nimport spikewrap as sw\n\nsession = sw.Session(\n    subject_path=sw.get_example_data_path() / \"rawdata\" / \"sub-001\",\n    session_name=\"ses-001\",\n    file_format=\"spikeglx\",\n    run_names=\"all\"\n)\n\nsession.preprocess(configs=\"neuropixels+kilosort2_5\")\n\nsession.save_preprocessed(slurm=True)\n```\nThe ``slurm`` argument can take one of three possible inputs:\n\n``False`` (do not run the job with SLURM), ``True`` (run in SLURM with a set of\ndefault parameters) or a ``dict`` of job parameters. See `configuring SLURM <configuring-slurm>`\nfor more details and `SLURM logs <slurm-logs>` to keep track of running SLURM jobs.\n\nNote that jobs are requested at the **run level**. For example, if\na session has 2 runs (which are not concatenated), :func:`spikewrap.Session.save_preprocessed`\nwill request two nodes.\n\n<div class=\"alert alert-danger\"><h4>Warning</h4><p>Chaining functions with ``slurm=True`` can lead to out-of-order code execution.\n   For example, imagine we run sorting after saving the preprocessed data:\n\n   .. code-block :: python\n\n       session.save_preprocessed(slurm=True)\n\n       session.sort(\"neuropixels+kilosort2_5\", slurm=True)\n\n   Here, the ``save_preprocessed`` will be triggered to be run in a separate SLURM\n   job, that will take a while to run. However, execution of the script will continue, and ``session.sort``\n   will be called immediately. As the preprocessed data will not yet be saved, and an error will be called.\n\n   See below on how to chain multiple function calls together with SLURM.</p></div>\n\n## Chaining SLURM commands: processing a single-run\n\nTo avoid the issue with out-of-order execution described above, we\ncan wrap multiple functions together and run them in a single SLURM job.\n\nWe wrap functions calls in an inner function (these dont have to be\njust functions with the ``slurm`` argument, and run with the function\n:func:`spikewrap.run_in_slurm`.\n\nFor example:\n\n```python\ndef capture_for_slurm():\n\n    session = sw.Session(\n        subject_path=sw.get_example_data_path() / \"rawdata\" / \"sub-001\",\n        session_name=\"ses-001\",\n        file_format=\"spikeglx\",\n        run_names=\"run-001\n    )\n\n    session.preprocess(configs=\"neuropixels+kilosort2_5\")\n\n    # We want to set `slurm=False` here, otherwise our SLURM jobs\n    # will spawn more SLURM jobs!\n\n    session.save_preprocessed(slurm=False)\n\n    session.sort(\"neuropixels+kilosort2_5\", slurm=False)\n\nsw.run_in_slurm(\n    slurm_opts=None,\n    func_to_run=capture_for_slurm,\n    log_base_path=session.get_output_path()\n```\nWhere ``slurm_opts`` are the slurm options `below <chaining-slurm>`),\n``func_to_run`` is the function to run in slurm, and ``log_base_path``\nis where the slurm logs will be saved (we set to the session output path).\n\n"
      ]
    },
    {
      "cell_type": "markdown",
      "metadata": {},
      "source": [
        "## Chaining SLURM commands: processing multiple runs\n\nWhen we have multiple runs, the above approach may not be ideal.\nFor example, imagine we have three runs associated with a session:\n\n```python\ndef capture_for_slurm():\n\n    session = sw.Session(\n        subject_path=\"/path/to/sub,\n        session_name=\"ses-001\",\n        file_format=\"spikeglx\",\n        run_names=[\"run-001, \"run-002\", \"run-003\"]\n    )\n\n    session.preprocess(configs=\"neuropixels+kilosort2_5\")\n\n    session.save_preprocessed(slurm=False)\n\n    session.wait_for_slurm()  # this will wait until all running SLURM jobs are finished\n\n    session.sort(\"neuropixels+kilosort2_5\", concat_runs=True, slurm=False)\n```\nNow ``session.save_preprocessed(slurm=False)`` will freeze execution\nwhile all runs are saved sequentially, thanks to :func:`spikewrap.Session.wait_for_slurm`.\nThen, it will move on to sorting, which will be run sequentially.\nTherefore, processing the runs will not be parallelized.\n\nInstead, we can set ``slurm=True`` on ``save_preprocessed`` above. In this case, execution\nof ``save_preprocessed`` will spawn three slurm jobs (one per run). Then the process\nwill wait until all three jobs have completed. Once completed, sorting will be run,\nfirst concatenating the saved preprocessed recordings together. We do not need to run\nthat job in SLURM, because there is only one run (as data is concatenated).\n\nWe can even run this entire job in SLURM, and from that job spawn more slurm jobs\nto take advantage of parallelization of saving the preprocessing. This means we don't have\nto use the current process, which may be killed if the connection to the HPC is lost. For example:\n\n```python\ndef capture_for_slurm():\n\n       session = sw.Session(\n           subject_path=sw.get_example_data_path() / \"rawdata\" / \"sub-001\",\n           session_name=\"ses-001\",\n           file_format=\"spikeglx\",\n           run_names=[\"run-001, \"run-002\", \"run-003\"]\n       )\n\n       session.preprocess(configs=\"neuropixels+kilosort2_5\")\n\n       session.save_preprocessed(slurm=True)\n\n       session.wait_for_slurm()\n\n       session.sort(\"neuropixels+kilosort2_5\", concat_runs=True, slurm=False)\n\nsw.run_in_slurm(\n    slurm_opts=None,\n    func_to_run=capture_for_slurm,\n    log_base_path=session.get_output_path()\n)\n```\nIn the above example, the captured functions will be run in a SLURM job.\nWithin that SLURM job, 3 more SLURM jobs will be spawned to save the\nthree preprocessed runs. Then, once the 3 SLURM jobs are complete, the\nsorting will be run in the original slurm job.\n\n"
      ]
    },
    {
      "cell_type": "markdown",
      "metadata": {},
      "source": [
        "## Configuring SLURM\n\nIn ``spikewrap``, when ``slurm=True`` a set of default arguments are used.\n\nThese can be inspected with:\n\n"
      ]
    },
    {
      "cell_type": "code",
      "execution_count": null,
      "metadata": {
        "collapsed": false
      },
      "outputs": [],
      "source": [
        "import spikewrap as sw\nimport json\n\ndefault_arguments = sw.default_slurm_options()\n\nprint(\n    json.dumps(default_arguments, indent=4)  # json just for visualising output\n)"
      ]
    },
    {
      "cell_type": "markdown",
      "metadata": {},
      "source": [
        "By default, these return arguments to request a CPU node.\n\n<div class=\"alert alert-info\"><h4>Note</h4><p>Typically, HPC systems are\n    organised into a set of 'nodes' that contain isolated compute resources.\n    Nodes are requested to run jobs on. These nodes may have CPU only, or a GPU\n    (which are required by some sorters, e.g. kilosort1-3).</p></div>\n\n\n<div class=\"alert alert-danger\"><h4>Warning</h4><p>These default arguments have been set up for the HPC system at the [Sainsbury Wellcome Center](https://www.sainsburywellcome.org/web/).\n   They may not all translate to other HPC systems (e.g. partition names, nodes to exclude, use of conda).\n   Please replace settings as required.</p></div>\n\nTwo of the default settings do not directly correspond to ``sbatch`` arguments:\n\n``wait``:\n   If ``True``, the job will block the executing process until the job is complete.\n\n``env_name``:\n    The conda environment in which to execute the job. By default, this will\n    read the name of the envionrment in which the script is run (from ``os.environ.get(\"CONDA_DEFAULT_ENV\")``\n    and if not found, set to ``\"spikewrap\"``.\n    To use a different environment name, edit the options as shown below.\n\n\nYou can edit these arguments before passing to the ``slurm`` argument:\n\n"
      ]
    },
    {
      "cell_type": "code",
      "execution_count": null,
      "metadata": {
        "collapsed": false
      },
      "outputs": [],
      "source": [
        "gpu_arguments = sw.default_slurm_options(\"gpu\")\n\ngpu_arguments[\"mem_gb\"] = 60\ngpu_arguments[\"env_name\"] = \"my_conda_environment\"\n\nprint(\n    json.dumps(gpu_arguments, indent=4)\n)"
      ]
    },
    {
      "cell_type": "markdown",
      "metadata": {},
      "source": [
        "and then use like:\n\n```\nsession.save_preprocessed(n_jobs=12, slurm=gpu_arguments)\n```\n.. admonition:: Multiprocessing in SLURM\n   :class: warning\n\n   :func:`spikewrap.Session.save_preprocessed` takes an ``n_jobs`` argument as well\n   as the ``slurm`` argument. When are using multiple cores (``n_jobs > 1``)  it is important\n   to check you have requested at least as many cpu cores as you set with ``n_jobs``.\n\n   When the SLURM job starts, ``n_jobs`` cores.  If these are not requested and available on the node,\n   the job may run slower that it should.\n\n   **Note:** ``n_jobs`` here refers to cores for correspondence with SpikeInterface terminology.\n   This is not to be confused with a SLURM job.\n\n\n"
      ]
    },
    {
      "cell_type": "markdown",
      "metadata": {},
      "source": [
        "## Checking the progress of a job\n\nOnce the job has been submitted, you can track its progress\nin two ways.\n\nOne is to `inspect the SLURM output files`_.\n\nThe other is to use the commands:\n\n```\nsqueue -u my_username\n```\nTo view all your current jobs and their status.\n\n\n## Inspecting SLURM's output\n\nAs the SLURM job runs, it will output logs to a ``slurm_logs`` folder in the processed run folders.\n\nThe two main log files are the ``.out`` and ``.err`` files are written to\nthe run folder These refer to\nthe ``stdout`` and ``stderr`` streams common across the major operating systems,\nwhich manage text.\n\nOstensibly, ``stdout`` is for normal program output while and ``stderr``\nis for error messages, warnings and debugging output. However, this is not always handled\nintuitively (for example, pythons ``logging`` module will always write to ``stderr``.\nTherefore, it is important to inspect both logs while inspecting the output of the progress.\n\n\n"
      ]
    }
  ],
  "metadata": {
    "kernelspec": {
      "display_name": "Python 3",
      "language": "python",
      "name": "python3"
    },
    "language_info": {
      "codemirror_mode": {
        "name": "ipython",
        "version": 3
      },
      "file_extension": ".py",
      "mimetype": "text/x-python",
      "name": "python",
      "nbconvert_exporter": "python",
      "pygments_lexer": "ipython3",
      "version": "3.11.11"
    }
  },
  "nbformat": 4,
  "nbformat_minor": 0
}